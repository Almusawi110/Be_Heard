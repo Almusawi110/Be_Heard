import cv2
import numpy as np
import mediapipe as mp
from tensorflow.keras.models import load_model
from collections import deque
from googletrans import Translator  # For translation
from gtts import gTTS  # For text-to-speech
import os
import pygame  # For audio playback

# Initialize Mediapipe holistic and drawing utilities
mp_holistic = mp.solutions.holistic
mp_drawing = mp.solutions.drawing_utils

# Initialize translator
translator = Translator()

# Define function for Mediapipe detection
def mediapipe_detection(image, model):
    image = cv2.cvtColor(image, cv2.COLOR_BGR2RGB)
    image.flags.writeable = False
    results = model.process(image)
    image.flags.writeable = True
    image = cv2.cvtColor(image, cv2.COLOR_RGB2BGR)
    return image, results

# Define function to draw styled landmarks
def draw_styled_landmarks(image, results):
    if results.face_landmarks:
        mp_drawing.draw_landmarks(image, results.face_landmarks, mp_holistic.FACEMESH_CONTOURS,
                                  mp_drawing.DrawingSpec(color=(80, 110, 10), thickness=1, circle_radius=1),
                                  mp_drawing.DrawingSpec(color=(80, 256, 121), thickness=1, circle_radius=1))
    if results.pose_landmarks:
        mp_drawing.draw_landmarks(image, results.pose_landmarks, mp_holistic.POSE_CONNECTIONS,
                                  mp_drawing.DrawingSpec(color=(80, 22, 10), thickness=2, circle_radius=4),
                                  mp_drawing.DrawingSpec(color=(80, 44, 121), thickness=2, circle_radius=2))
    if results.left_hand_landmarks:
        mp_drawing.draw_landmarks(image, results.left_hand_landmarks, mp_holistic.HAND_CONNECTIONS,
                                  mp_drawing.DrawingSpec(color=(121, 22, 76), thickness=2, circle_radius=4),
                                  mp_drawing.DrawingSpec(color=(121, 44, 250), thickness=2, circle_radius=2))
    if results.right_hand_landmarks:
        mp_drawing.draw_landmarks(image, results.right_hand_landmarks, mp_holistic.HAND_CONNECTIONS,
                                  mp_drawing.DrawingSpec(color=(245, 117, 66), thickness=2, circle_radius=4),
                                  mp_drawing.DrawingSpec(color=(245, 66, 230), thickness=2, circle_radius=2))

# Function to extract keypoints from results
def extract_keypoints(results):
    pose = np.array([[res.x, res.y, res.z, res.visibility] for res in results.pose_landmarks.landmark]).flatten() if results.pose_landmarks else np.zeros(33*4)
    face = np.array([[res.x, res.y, res.z] for res in results.face_landmarks.landmark]).flatten() if results.face_landmarks else np.zeros(468*3)
    lh = np.array([[res.x, res.y, res.z] for res in results.left_hand_landmarks.landmark]).flatten() if results.left_hand_landmarks else np.zeros(21*3)
    rh = np.array([[res.x, res.y, res.z] for res in results.right_hand_landmarks.landmark]).flatten() if results.right_hand_landmarks else np.zeros(21*3)
    return np.concatenate([pose, face, lh, rh])

# Function to play audio
def play_audio(file_path, slow=False):
    pygame.mixer.init()
    pygame.mixer.music.load(file_path)
    pygame.mixer.music.play()
    while pygame.mixer.music.get_busy():
        continue
    pygame.mixer.quit()

# Load pre-trained model
model = load_model('action_V2_20.keras')

# Actions that the model predicts
actions = np.array(['Hello', 'ILoveYou', 'No', 'Yes', 'ThankYou', 'Please', 'Sorry', 'A', 'E', 'F', 'H', 'I', 'M', 'N', 'O', 'R', 'S', 'T', 'My', 'Name'])

# Initialize buffer for storing keypoints for multiple frames (sequence)
sequence = deque(maxlen=30)  # 30 frames

# Capture video from webcam
cap = cv2.VideoCapture(0)
with mp_holistic.Holistic(min_detection_confidence=0.5, min_tracking_confidence=0.5) as holistic:
    while cap.isOpened():
        ret, frame = cap.read()

        # Make detection and extract landmarks
        image, results = mediapipe_detection(frame, holistic)

        # Draw landmarks
        draw_styled_landmarks(image, results)

        # Extract keypoints
        keypoints = extract_keypoints(results)
        sequence.append(keypoints)  # Store the keypoints in the sequence buffer

        # Only make predictions if we have enough frames (e.g., 30 frames)
        if len(sequence) == 30:
            # Reshape sequence for prediction: (1, 30, num_features)
            input_sequence = np.array(sequence).reshape(1, 30, -1)

            # Make prediction
            prediction = model.predict(input_sequence)
            action = actions[np.argmax(prediction)]

            # Select language for translation (e.g., 'es' for Spanish)
            target_language = 'es'  # Replace with desired language code

            # Translate prediction
            translated_text = translator.translate(action, dest=target_language).text
            print(f"Translated text: {translated_text}")

            # Convert text to audio
            tts = gTTS(translated_text, lang=target_language, slow=False)  # Set slow=True for slower playback
            audio_file = "prediction_audio.mp3"
            tts.save(audio_file)
            play_audio(audio_file)

            # Display the action prediction on the image
            cv2.putText(image, action, (50, 50), cv2.FONT_HERSHEY_SIMPLEX, 1, (255, 255, 255), 2, cv2.LINE_AA)

        # Show image in OpenCV window
        cv2.imshow('Webcam Feed', image)

        # Exit loop if 'q' is pressed
        if cv2.waitKey(10) & 0xFF == ord('q'):
            break

# Release camera and close windows
cap.release()
cv2.destroyAllWindows()
os.remove(audio_file)  # Clean up the audio file after playback
